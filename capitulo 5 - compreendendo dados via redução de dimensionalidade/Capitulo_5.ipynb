{
  "nbformat": 4,
  "nbformat_minor": 0,
  "metadata": {
    "colab": {
      "provenance": []
    },
    "kernelspec": {
      "name": "python3",
      "display_name": "Python 3"
    },
    "language_info": {
      "name": "python"
    }
  },
  "cells": [
    {
      "cell_type": "markdown",
      "source": [
        "# Redução de dimensionalidade"
      ],
      "metadata": {
        "id": "KmswFNRJgcSO"
      }
    },
    {
      "cell_type": "code",
      "source": [
        "import pandas as pd\n",
        "import matplotlib.pyplot as plt\n",
        "import numpy as np\n",
        "import seaborn as sns\n",
        "from   sklearn.datasets import load_wine"
      ],
      "metadata": {
        "id": "4nfbl8r167eM"
      },
      "execution_count": null,
      "outputs": []
    },
    {
      "cell_type": "markdown",
      "source": [
        "## Redução de dimensionalidade via analise de componente principa\n",
        "Extrai as features para transformar ou projetar os dados em outra nova feature espaça."
      ],
      "metadata": {
        "id": "OC6KbguGuj1g"
      }
    },
    {
      "cell_type": "markdown",
      "source": [
        "### PCA"
      ],
      "metadata": {
        "id": "48bQ06vY6UfO"
      }
    },
    {
      "cell_type": "markdown",
      "source": [
        "1. Escalona as caracteristicas escolhidas\n",
        "2. Constroe a matriz covariante\n",
        "3. Decomposição da matriz covariante em auto vetores e auto valores\n",
        "4. Ordena os auto valores em ordem decrescente para rankear os auto vetores correspondentes\n",
        "5. Seleciona o K auto vetor, que correspond para k maior auto valor, onde k é a dimensão do novo sub-espaço features k<d\n",
        "6. Constroe a projeçao da matriz,w,\n",
        "7.  "
      ],
      "metadata": {
        "id": "bSP8DkNm7H3c"
      }
    },
    {
      "cell_type": "code",
      "source": [
        "data = load_wine(as_frame=True)"
      ],
      "metadata": {
        "id": "XvM7Oyi_8NYc"
      },
      "execution_count": null,
      "outputs": []
    },
    {
      "cell_type": "code",
      "source": [
        "X = data.data\n",
        "y = data.target"
      ],
      "metadata": {
        "id": "3ar67I167G-e"
      },
      "execution_count": null,
      "outputs": []
    },
    {
      "cell_type": "code",
      "source": [
        "X_ = X.iloc[:,1:].values"
      ],
      "metadata": {
        "id": "Sc1_7_9H6Vus"
      },
      "execution_count": null,
      "outputs": []
    },
    {
      "cell_type": "code",
      "source": [
        "from sklearn.preprocessing import StandardScaler\n",
        "\n",
        "sc = StandardScaler()\n",
        "X_ = sc.fit_transform(X_)"
      ],
      "metadata": {
        "id": "OBvrYFZL8odc"
      },
      "execution_count": null,
      "outputs": []
    },
    {
      "cell_type": "code",
      "source": [
        "cov_mat = np.cov(X_.T)"
      ],
      "metadata": {
        "id": "IJNYEVv18tcz"
      },
      "execution_count": null,
      "outputs": []
    },
    {
      "cell_type": "code",
      "source": [
        "auto_vals, auto_vecs = np.linalg.eig(cov_mat)"
      ],
      "metadata": {
        "id": "cSY0k3wt8x3i"
      },
      "execution_count": null,
      "outputs": []
    },
    {
      "cell_type": "code",
      "source": [
        "auto_pares = [(np.abs(auto_vals[i]),auto_vecs[:,i]) for i in range(len(auto_vals))]"
      ],
      "metadata": {
        "id": "3F9b70pU8zxj"
      },
      "execution_count": null,
      "outputs": []
    },
    {
      "cell_type": "code",
      "source": [
        "eigens = sorted(auto_pares, key=lambda x: x[0], reverse=True)"
      ],
      "metadata": {
        "id": "lB7s5nL89A8S"
      },
      "execution_count": null,
      "outputs": []
    },
    {
      "cell_type": "code",
      "source": [
        "W = np.hstack((eigens[0][1][:, np.newaxis] ,eigens[1][1][:, np.newaxis]))"
      ],
      "metadata": {
        "id": "kERqNneS9Daa"
      },
      "execution_count": null,
      "outputs": []
    },
    {
      "cell_type": "code",
      "source": [
        "W"
      ],
      "metadata": {
        "colab": {
          "base_uri": "https://localhost:8080/"
        },
        "id": "00gD19Vp9E1D",
        "outputId": "0349efd2-f55a-44fa-fd40-399a8636fc7b"
      },
      "execution_count": null,
      "outputs": [
        {
          "output_type": "execute_result",
          "data": {
            "text/plain": [
              "array([[-0.25929907, -0.22363659],\n",
              "       [-0.01550401, -0.45446769],\n",
              "       [-0.23457717, -0.08389744],\n",
              "       [ 0.12997254, -0.41000066],\n",
              "       [ 0.39396388, -0.14109614],\n",
              "       [ 0.4262194 , -0.07041646],\n",
              "       [-0.30156031, -0.01025314],\n",
              "       [ 0.31599638, -0.13306564],\n",
              "       [-0.12050505, -0.53637656],\n",
              "       [ 0.31314859,  0.27207746],\n",
              "       [ 0.38744   ,  0.11846639],\n",
              "       [ 0.26504376, -0.38712793]])"
            ]
          },
          "metadata": {},
          "execution_count": 24
        }
      ]
    },
    {
      "cell_type": "code",
      "source": [
        "X_.dot(W)"
      ],
      "metadata": {
        "colab": {
          "base_uri": "https://localhost:8080/"
        },
        "id": "4FcRaZci9Ojr",
        "outputId": "faa89fe9-9c19-48e1-f485-067f4480c563"
      },
      "execution_count": null,
      "outputs": [
        {
          "output_type": "execute_result",
          "data": {
            "text/plain": [
              "array([[ 3.07857252e+00, -1.21926180e+00],\n",
              "       [ 2.19079587e+00,  6.64568240e-01],\n",
              "       [ 2.45644079e+00, -1.50581110e+00],\n",
              "       [ 3.42275012e+00, -2.55605831e+00],\n",
              "       [ 9.48975875e-01, -1.32973488e+00],\n",
              "       [ 2.76731538e+00, -1.77985016e+00],\n",
              "       [ 2.18375478e+00, -4.58036710e-01],\n",
              "       [ 1.82632140e+00, -1.33985744e+00],\n",
              "       [ 2.19383381e+00,  2.03202783e-01],\n",
              "       [ 2.59000186e+00, -4.35609334e-01],\n",
              "       [ 3.26089058e+00, -1.03803643e+00],\n",
              "       [ 1.55488981e+00,  1.04878503e-01],\n",
              "       [ 1.96567565e+00, -2.73148206e-01],\n",
              "       [ 3.14743458e+00, -2.58202082e-01],\n",
              "       [ 4.00629989e+00, -1.65773346e+00],\n",
              "       [ 2.13051424e+00, -1.67993499e+00],\n",
              "       [ 1.87351026e+00, -2.15937482e+00],\n",
              "       [ 1.70365337e+00, -1.62849380e+00],\n",
              "       [ 3.23817800e+00, -2.25696066e+00],\n",
              "       [ 1.94408078e+00, -9.99518957e-01],\n",
              "       [ 2.94642239e+00, -5.67121964e-01],\n",
              "       [ 1.09489837e+00, -6.02002492e-01],\n",
              "       [ 2.44560230e+00,  3.47433406e-01],\n",
              "       [ 1.70081887e+00,  3.04927387e-01],\n",
              "       [ 1.72046805e+00,  3.24802849e-01],\n",
              "       [ 9.67366820e-01, -1.85985260e+00],\n",
              "       [ 1.68327066e+00, -6.18440768e-01],\n",
              "       [ 1.18897314e+00,  4.51721667e-01],\n",
              "       [ 2.04401340e+00, -6.90374388e-01],\n",
              "       [ 2.09994017e+00,  3.93880250e-01],\n",
              "       [ 2.34841466e+00, -1.44000241e+00],\n",
              "       [ 2.52075473e+00, -1.47654993e+00],\n",
              "       [ 1.53341420e+00,  2.31052411e-01],\n",
              "       [ 1.71987930e+00, -1.74131977e+00],\n",
              "       [ 1.30834140e+00, -6.92779716e-01],\n",
              "       [ 1.83755336e+00, -1.93377357e-01],\n",
              "       [ 1.31689690e+00, -7.72159721e-01],\n",
              "       [ 1.11112978e+00, -1.78417762e-01],\n",
              "       [ 1.52935162e+00,  1.00997764e+00],\n",
              "       [ 2.26855413e+00, -1.50944357e+00],\n",
              "       [ 2.48051126e+00, -8.37779061e-01],\n",
              "       [ 5.93094390e-01,  1.91718051e-01],\n",
              "       [ 2.89069880e+00, -9.87535341e-01],\n",
              "       [ 4.10335549e-01, -2.34148867e-01],\n",
              "       [ 2.10640792e+00, -4.82277470e-02],\n",
              "       [ 8.66006206e-01, -1.29499804e+00],\n",
              "       [ 2.46912895e+00, -6.31871876e-01],\n",
              "       [ 2.66233557e+00, -2.72266625e-01],\n",
              "       [ 1.79238877e+00, -9.08190096e-01],\n",
              "       [ 2.48106588e+00, -1.50072583e+00],\n",
              "       [ 3.19956610e+00, -1.59678942e-01],\n",
              "       [ 2.70863693e+00, -5.81483989e-01],\n",
              "       [ 3.30914168e+00, -1.53489401e+00],\n",
              "       [ 2.01983884e+00, -1.85157695e+00],\n",
              "       [ 1.98998508e+00, -7.61039283e-01],\n",
              "       [ 2.33599174e+00, -1.55684889e+00],\n",
              "       [ 2.49834559e+00, -1.05978098e+00],\n",
              "       [ 2.07297273e+00, -1.39129809e+00],\n",
              "       [ 2.95350312e+00, -1.76824955e+00],\n",
              "       [-7.06833152e-01,  3.94749690e+00],\n",
              "       [-1.38832992e+00,  1.50771234e+00],\n",
              "       [-1.76047005e+00,  1.21198376e+00],\n",
              "       [-1.10500810e-02,  2.16396924e+00],\n",
              "       [ 2.25983860e+00,  1.46625654e+00],\n",
              "       [-3.82238604e-01,  1.52738718e+00],\n",
              "       [ 1.04368873e+00,  2.19810977e-01],\n",
              "       [ 2.33350506e+00,  2.25910474e+00],\n",
              "       [ 3.98054254e-01,  2.49819618e+00],\n",
              "       [-8.60551468e-01,  7.09425526e-01],\n",
              "       [ 2.18485283e+00,  8.16239200e-01],\n",
              "       [-1.42999392e+00,  7.80878803e-01],\n",
              "       [ 1.61060826e+00,  1.03626289e+00],\n",
              "       [-7.39614919e-01,  1.54463733e+00],\n",
              "       [ 2.59665544e+00, -1.33820420e+00],\n",
              "       [ 2.06978517e+00,  4.21720896e-01],\n",
              "       [-5.54565711e-01,  2.22376410e+00],\n",
              "       [ 4.70168920e-01,  2.78052886e+00],\n",
              "       [-1.22046347e+00,  9.75170005e-01],\n",
              "       [ 1.41338684e+00,  3.19931306e-01],\n",
              "       [ 4.92641436e-01,  5.56466925e-01],\n",
              "       [ 1.09498354e+00,  3.06036901e+00],\n",
              "       [ 1.15638321e+00,  1.38758094e+00],\n",
              "       [-2.26045824e-01,  1.90224546e+00],\n",
              "       [-2.55318101e+00,  3.74570119e-01],\n",
              "       [ 1.09912479e+00,  6.06236117e-01],\n",
              "       [ 9.52016915e-01,  1.95370330e+00],\n",
              "       [-5.59747299e-01,  1.88042142e+00],\n",
              "       [-2.19880866e-01,  1.43549505e+00],\n",
              "       [-8.21002927e-01,  1.12904460e+00],\n",
              "       [-2.76496868e-01,  2.31681558e+00],\n",
              "       [-1.10814613e+00,  1.94844467e+00],\n",
              "       [-1.31998481e+00,  1.45635100e+00],\n",
              "       [-1.81288074e+00,  1.78629071e+00],\n",
              "       [ 9.83710114e-01,  1.96856042e+00],\n",
              "       [ 1.28800285e+00,  1.40790673e+00],\n",
              "       [ 2.64859229e+00, -1.21216314e+00],\n",
              "       [-3.33167241e-01, -6.81520872e-01],\n",
              "       [ 1.27328088e+00,  2.45442527e+00],\n",
              "       [ 2.43305098e+00,  9.49455940e-01],\n",
              "       [ 1.64614423e+00,  1.63231511e+00],\n",
              "       [ 1.05439325e+00,  2.23034571e+00],\n",
              "       [-3.77417423e-01,  2.59666582e+00],\n",
              "       [ 6.80405860e-03,  6.81148047e-01],\n",
              "       [-3.48144516e-01,  2.40299913e+00],\n",
              "       [ 5.76256910e-01,  2.06407485e+00],\n",
              "       [-1.59681566e+00,  1.58084475e+00],\n",
              "       [-1.44778998e-01,  2.06900274e+00],\n",
              "       [-1.51045565e+00,  1.44849144e+00],\n",
              "       [ 3.25307832e-01,  2.05740625e+00],\n",
              "       [ 1.88444662e+00,  1.82060993e-01],\n",
              "       [ 1.74171119e+00,  2.38571601e-01],\n",
              "       [-1.01273397e-01,  1.81723475e+00],\n",
              "       [-1.07829508e+00, -9.43408798e-02],\n",
              "       [-9.57544239e-02,  1.35312961e+00],\n",
              "       [-2.48625437e-01,  1.40104213e+00],\n",
              "       [ 9.91098730e-01,  2.75167316e+00],\n",
              "       [ 7.19001379e-02,  2.42598406e+00],\n",
              "       [ 9.47069507e-02,  1.55715406e+00],\n",
              "       [-2.35957561e+00,  1.91342561e+00],\n",
              "       [-2.88616324e-01,  1.93972468e+00],\n",
              "       [ 1.05485141e+00,  2.62609524e-01],\n",
              "       [ 1.58027630e+00, -2.37132564e+00],\n",
              "       [-1.03771031e+00, -8.25117457e-02],\n",
              "       [-4.33207165e-01,  6.65556480e-01],\n",
              "       [ 1.24124001e+00,  4.44809949e-01],\n",
              "       [ 1.56828373e-01,  1.67447632e+00],\n",
              "       [ 1.99041688e-01,  8.75361955e-01],\n",
              "       [-1.33738559e+00,  1.25570864e-01],\n",
              "       [-2.69612590e-01,  1.50474033e+00],\n",
              "       [-1.59737634e+00,  7.73028034e-01],\n",
              "       [-1.32306353e+00, -2.13731420e-02],\n",
              "       [-2.40217969e+00, -1.23415326e-01],\n",
              "       [-2.93669290e+00, -8.64538461e-02],\n",
              "       [-2.13434433e+00, -3.17811220e-01],\n",
              "       [-2.29618122e+00,  7.13812364e-01],\n",
              "       [-3.05300156e+00, -3.27417344e-02],\n",
              "       [-3.83902203e+00, -1.66459983e-01],\n",
              "       [-3.91586253e+00, -8.33812264e-01],\n",
              "       [-3.21223723e+00,  5.37654822e-01],\n",
              "       [-2.37217303e+00, -3.48126922e-01],\n",
              "       [-2.79724949e+00, -1.05158505e-01],\n",
              "       [-2.38197167e+00,  3.12970979e-01],\n",
              "       [-3.09854735e+00,  1.04993639e-03],\n",
              "       [-2.50926996e+00,  2.35469705e-01],\n",
              "       [-2.18540044e+00, -1.28875451e+00],\n",
              "       [-2.69749687e+00, -8.39104328e-02],\n",
              "       [-4.47920138e+00,  6.46400157e-01],\n",
              "       [-3.65848580e+00, -9.81554732e-01],\n",
              "       [-2.95903025e+00, -1.09987451e+00],\n",
              "       [-3.03887024e+00, -1.82467483e+00],\n",
              "       [-2.52312836e+00, -2.21095369e+00],\n",
              "       [-2.64203389e+00, -2.11686827e+00],\n",
              "       [-1.90193209e+00, -1.78483430e+00],\n",
              "       [-2.93370890e+00, -1.70079873e+00],\n",
              "       [-2.71845248e+00, -2.22574200e-01],\n",
              "       [-3.75138135e+00, -1.39961386e+00],\n",
              "       [-3.13955219e+00, -1.09019100e+00],\n",
              "       [-3.39377740e+00, -1.65029281e+00],\n",
              "       [-1.42965244e+00, -3.15365680e+00],\n",
              "       [-1.81587351e+00, -2.26420869e+00],\n",
              "       [-3.11111119e+00, -7.96539136e-01],\n",
              "       [-2.41908834e+00, -5.50951145e-01],\n",
              "       [-2.86676289e+00, -5.02397226e-01],\n",
              "       [-2.64929546e+00, -3.42252552e-01],\n",
              "       [-3.17230335e+00, -6.71158883e-01],\n",
              "       [-3.70850055e+00,  2.37808816e-02],\n",
              "       [-2.62319095e+00, -2.38083674e+00],\n",
              "       [-3.00243461e+00, -8.94704348e-01],\n",
              "       [-2.38351767e+00, -1.83662189e+00],\n",
              "       [-2.58180957e+00, -2.61260983e+00],\n",
              "       [-3.10524912e+00,  3.04516594e-01],\n",
              "       [-3.72399573e+00, -3.56442666e-01],\n",
              "       [-2.77583186e+00, -1.19964896e+00],\n",
              "       [-3.62061640e+00, -1.47188579e+00],\n",
              "       [-2.76817690e+00, -1.42612124e+00],\n",
              "       [-2.88825847e+00, -2.42076977e+00],\n",
              "       [-2.55190832e+00, -2.08637202e+00],\n",
              "       [-3.53573264e+00, -2.12257387e+00]])"
            ]
          },
          "metadata": {},
          "execution_count": 25
        }
      ]
    },
    {
      "cell_type": "code",
      "source": [
        "from sklearn.decomposition import PCA"
      ],
      "metadata": {
        "id": "5r4pk5TS9T9S"
      },
      "execution_count": null,
      "outputs": []
    },
    {
      "cell_type": "code",
      "source": [
        "X_ = PCA(n_components=2).fit_transform(X_)"
      ],
      "metadata": {
        "id": "HPgm0LGG9Vdi"
      },
      "execution_count": null,
      "outputs": []
    },
    {
      "cell_type": "code",
      "source": [
        "X_"
      ],
      "metadata": {
        "colab": {
          "base_uri": "https://localhost:8080/"
        },
        "id": "ns8AXTTk9XYi",
        "outputId": "45dd1c69-7ad7-4b44-d107-e4ad4cf2b942"
      },
      "execution_count": null,
      "outputs": [
        {
          "output_type": "execute_result",
          "data": {
            "text/plain": [
              "array([[ 3.07857252e+00,  1.21926180e+00],\n",
              "       [ 2.19079587e+00, -6.64568240e-01],\n",
              "       [ 2.45644079e+00,  1.50581110e+00],\n",
              "       [ 3.42275012e+00,  2.55605831e+00],\n",
              "       [ 9.48975875e-01,  1.32973488e+00],\n",
              "       [ 2.76731538e+00,  1.77985016e+00],\n",
              "       [ 2.18375478e+00,  4.58036710e-01],\n",
              "       [ 1.82632140e+00,  1.33985744e+00],\n",
              "       [ 2.19383381e+00, -2.03202783e-01],\n",
              "       [ 2.59000186e+00,  4.35609334e-01],\n",
              "       [ 3.26089058e+00,  1.03803643e+00],\n",
              "       [ 1.55488981e+00, -1.04878503e-01],\n",
              "       [ 1.96567565e+00,  2.73148206e-01],\n",
              "       [ 3.14743458e+00,  2.58202082e-01],\n",
              "       [ 4.00629989e+00,  1.65773346e+00],\n",
              "       [ 2.13051424e+00,  1.67993499e+00],\n",
              "       [ 1.87351026e+00,  2.15937482e+00],\n",
              "       [ 1.70365337e+00,  1.62849380e+00],\n",
              "       [ 3.23817800e+00,  2.25696066e+00],\n",
              "       [ 1.94408078e+00,  9.99518957e-01],\n",
              "       [ 2.94642239e+00,  5.67121964e-01],\n",
              "       [ 1.09489837e+00,  6.02002492e-01],\n",
              "       [ 2.44560230e+00, -3.47433406e-01],\n",
              "       [ 1.70081887e+00, -3.04927387e-01],\n",
              "       [ 1.72046805e+00, -3.24802849e-01],\n",
              "       [ 9.67366820e-01,  1.85985260e+00],\n",
              "       [ 1.68327066e+00,  6.18440768e-01],\n",
              "       [ 1.18897314e+00, -4.51721667e-01],\n",
              "       [ 2.04401340e+00,  6.90374388e-01],\n",
              "       [ 2.09994017e+00, -3.93880250e-01],\n",
              "       [ 2.34841466e+00,  1.44000241e+00],\n",
              "       [ 2.52075473e+00,  1.47654993e+00],\n",
              "       [ 1.53341420e+00, -2.31052411e-01],\n",
              "       [ 1.71987930e+00,  1.74131977e+00],\n",
              "       [ 1.30834140e+00,  6.92779716e-01],\n",
              "       [ 1.83755336e+00,  1.93377357e-01],\n",
              "       [ 1.31689690e+00,  7.72159721e-01],\n",
              "       [ 1.11112978e+00,  1.78417762e-01],\n",
              "       [ 1.52935162e+00, -1.00997764e+00],\n",
              "       [ 2.26855413e+00,  1.50944357e+00],\n",
              "       [ 2.48051126e+00,  8.37779061e-01],\n",
              "       [ 5.93094390e-01, -1.91718051e-01],\n",
              "       [ 2.89069880e+00,  9.87535341e-01],\n",
              "       [ 4.10335549e-01,  2.34148867e-01],\n",
              "       [ 2.10640792e+00,  4.82277470e-02],\n",
              "       [ 8.66006206e-01,  1.29499804e+00],\n",
              "       [ 2.46912895e+00,  6.31871876e-01],\n",
              "       [ 2.66233557e+00,  2.72266625e-01],\n",
              "       [ 1.79238877e+00,  9.08190096e-01],\n",
              "       [ 2.48106588e+00,  1.50072583e+00],\n",
              "       [ 3.19956610e+00,  1.59678942e-01],\n",
              "       [ 2.70863693e+00,  5.81483989e-01],\n",
              "       [ 3.30914168e+00,  1.53489401e+00],\n",
              "       [ 2.01983884e+00,  1.85157695e+00],\n",
              "       [ 1.98998508e+00,  7.61039283e-01],\n",
              "       [ 2.33599174e+00,  1.55684889e+00],\n",
              "       [ 2.49834559e+00,  1.05978098e+00],\n",
              "       [ 2.07297273e+00,  1.39129809e+00],\n",
              "       [ 2.95350312e+00,  1.76824955e+00],\n",
              "       [-7.06833152e-01, -3.94749690e+00],\n",
              "       [-1.38832992e+00, -1.50771234e+00],\n",
              "       [-1.76047005e+00, -1.21198376e+00],\n",
              "       [-1.10500810e-02, -2.16396924e+00],\n",
              "       [ 2.25983860e+00, -1.46625654e+00],\n",
              "       [-3.82238604e-01, -1.52738718e+00],\n",
              "       [ 1.04368873e+00, -2.19810977e-01],\n",
              "       [ 2.33350506e+00, -2.25910474e+00],\n",
              "       [ 3.98054254e-01, -2.49819618e+00],\n",
              "       [-8.60551468e-01, -7.09425526e-01],\n",
              "       [ 2.18485283e+00, -8.16239200e-01],\n",
              "       [-1.42999392e+00, -7.80878803e-01],\n",
              "       [ 1.61060826e+00, -1.03626289e+00],\n",
              "       [-7.39614919e-01, -1.54463733e+00],\n",
              "       [ 2.59665544e+00,  1.33820420e+00],\n",
              "       [ 2.06978517e+00, -4.21720896e-01],\n",
              "       [-5.54565711e-01, -2.22376410e+00],\n",
              "       [ 4.70168920e-01, -2.78052886e+00],\n",
              "       [-1.22046347e+00, -9.75170005e-01],\n",
              "       [ 1.41338684e+00, -3.19931306e-01],\n",
              "       [ 4.92641436e-01, -5.56466925e-01],\n",
              "       [ 1.09498354e+00, -3.06036901e+00],\n",
              "       [ 1.15638321e+00, -1.38758094e+00],\n",
              "       [-2.26045824e-01, -1.90224546e+00],\n",
              "       [-2.55318101e+00, -3.74570119e-01],\n",
              "       [ 1.09912479e+00, -6.06236117e-01],\n",
              "       [ 9.52016915e-01, -1.95370330e+00],\n",
              "       [-5.59747299e-01, -1.88042142e+00],\n",
              "       [-2.19880866e-01, -1.43549505e+00],\n",
              "       [-8.21002927e-01, -1.12904460e+00],\n",
              "       [-2.76496868e-01, -2.31681558e+00],\n",
              "       [-1.10814613e+00, -1.94844467e+00],\n",
              "       [-1.31998481e+00, -1.45635100e+00],\n",
              "       [-1.81288074e+00, -1.78629071e+00],\n",
              "       [ 9.83710114e-01, -1.96856042e+00],\n",
              "       [ 1.28800285e+00, -1.40790673e+00],\n",
              "       [ 2.64859229e+00,  1.21216314e+00],\n",
              "       [-3.33167241e-01,  6.81520872e-01],\n",
              "       [ 1.27328088e+00, -2.45442527e+00],\n",
              "       [ 2.43305098e+00, -9.49455940e-01],\n",
              "       [ 1.64614423e+00, -1.63231511e+00],\n",
              "       [ 1.05439325e+00, -2.23034571e+00],\n",
              "       [-3.77417423e-01, -2.59666582e+00],\n",
              "       [ 6.80405860e-03, -6.81148047e-01],\n",
              "       [-3.48144516e-01, -2.40299913e+00],\n",
              "       [ 5.76256910e-01, -2.06407485e+00],\n",
              "       [-1.59681566e+00, -1.58084475e+00],\n",
              "       [-1.44778998e-01, -2.06900274e+00],\n",
              "       [-1.51045565e+00, -1.44849144e+00],\n",
              "       [ 3.25307832e-01, -2.05740625e+00],\n",
              "       [ 1.88444662e+00, -1.82060993e-01],\n",
              "       [ 1.74171119e+00, -2.38571601e-01],\n",
              "       [-1.01273397e-01, -1.81723475e+00],\n",
              "       [-1.07829508e+00,  9.43408798e-02],\n",
              "       [-9.57544239e-02, -1.35312961e+00],\n",
              "       [-2.48625437e-01, -1.40104213e+00],\n",
              "       [ 9.91098730e-01, -2.75167316e+00],\n",
              "       [ 7.19001379e-02, -2.42598406e+00],\n",
              "       [ 9.47069507e-02, -1.55715406e+00],\n",
              "       [-2.35957561e+00, -1.91342561e+00],\n",
              "       [-2.88616324e-01, -1.93972468e+00],\n",
              "       [ 1.05485141e+00, -2.62609524e-01],\n",
              "       [ 1.58027630e+00,  2.37132564e+00],\n",
              "       [-1.03771031e+00,  8.25117457e-02],\n",
              "       [-4.33207165e-01, -6.65556480e-01],\n",
              "       [ 1.24124001e+00, -4.44809949e-01],\n",
              "       [ 1.56828373e-01, -1.67447632e+00],\n",
              "       [ 1.99041688e-01, -8.75361955e-01],\n",
              "       [-1.33738559e+00, -1.25570864e-01],\n",
              "       [-2.69612590e-01, -1.50474033e+00],\n",
              "       [-1.59737634e+00, -7.73028034e-01],\n",
              "       [-1.32306353e+00,  2.13731420e-02],\n",
              "       [-2.40217969e+00,  1.23415326e-01],\n",
              "       [-2.93669290e+00,  8.64538461e-02],\n",
              "       [-2.13434433e+00,  3.17811220e-01],\n",
              "       [-2.29618122e+00, -7.13812364e-01],\n",
              "       [-3.05300156e+00,  3.27417344e-02],\n",
              "       [-3.83902203e+00,  1.66459983e-01],\n",
              "       [-3.91586253e+00,  8.33812264e-01],\n",
              "       [-3.21223723e+00, -5.37654822e-01],\n",
              "       [-2.37217303e+00,  3.48126922e-01],\n",
              "       [-2.79724949e+00,  1.05158505e-01],\n",
              "       [-2.38197167e+00, -3.12970979e-01],\n",
              "       [-3.09854735e+00, -1.04993639e-03],\n",
              "       [-2.50926996e+00, -2.35469705e-01],\n",
              "       [-2.18540044e+00,  1.28875451e+00],\n",
              "       [-2.69749687e+00,  8.39104328e-02],\n",
              "       [-4.47920138e+00, -6.46400157e-01],\n",
              "       [-3.65848580e+00,  9.81554732e-01],\n",
              "       [-2.95903025e+00,  1.09987451e+00],\n",
              "       [-3.03887024e+00,  1.82467483e+00],\n",
              "       [-2.52312836e+00,  2.21095369e+00],\n",
              "       [-2.64203389e+00,  2.11686827e+00],\n",
              "       [-1.90193209e+00,  1.78483430e+00],\n",
              "       [-2.93370890e+00,  1.70079873e+00],\n",
              "       [-2.71845248e+00,  2.22574200e-01],\n",
              "       [-3.75138135e+00,  1.39961386e+00],\n",
              "       [-3.13955219e+00,  1.09019100e+00],\n",
              "       [-3.39377740e+00,  1.65029281e+00],\n",
              "       [-1.42965244e+00,  3.15365680e+00],\n",
              "       [-1.81587351e+00,  2.26420869e+00],\n",
              "       [-3.11111119e+00,  7.96539136e-01],\n",
              "       [-2.41908834e+00,  5.50951145e-01],\n",
              "       [-2.86676289e+00,  5.02397226e-01],\n",
              "       [-2.64929546e+00,  3.42252552e-01],\n",
              "       [-3.17230335e+00,  6.71158883e-01],\n",
              "       [-3.70850055e+00, -2.37808816e-02],\n",
              "       [-2.62319095e+00,  2.38083674e+00],\n",
              "       [-3.00243461e+00,  8.94704348e-01],\n",
              "       [-2.38351767e+00,  1.83662189e+00],\n",
              "       [-2.58180957e+00,  2.61260983e+00],\n",
              "       [-3.10524912e+00, -3.04516594e-01],\n",
              "       [-3.72399573e+00,  3.56442666e-01],\n",
              "       [-2.77583186e+00,  1.19964896e+00],\n",
              "       [-3.62061640e+00,  1.47188579e+00],\n",
              "       [-2.76817690e+00,  1.42612124e+00],\n",
              "       [-2.88825847e+00,  2.42076977e+00],\n",
              "       [-2.55190832e+00,  2.08637202e+00],\n",
              "       [-3.53573264e+00,  2.12257387e+00]])"
            ]
          },
          "metadata": {},
          "execution_count": 28
        }
      ]
    },
    {
      "cell_type": "code",
      "source": [
        "sns.scatterplot(x=X_[:,0],y=X_[:,1],hue=y)"
      ],
      "metadata": {
        "colab": {
          "base_uri": "https://localhost:8080/",
          "height": 447
        },
        "id": "m563-Lra9acE",
        "outputId": "933e323d-8d46-4fa9-e02d-71b8efae4ddb"
      },
      "execution_count": null,
      "outputs": [
        {
          "output_type": "execute_result",
          "data": {
            "text/plain": [
              "<Axes: >"
            ]
          },
          "metadata": {},
          "execution_count": 30
        },
        {
          "output_type": "display_data",
          "data": {
            "text/plain": [
              "<Figure size 640x480 with 1 Axes>"
            ],
            "image/png": "[encoded data removed]"
          },
          "metadata": {}
        }
      ]
    }
  ]
}